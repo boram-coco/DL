{
 "cells": [
  {
   "cell_type": "raw",
   "metadata": {},
   "source": [
    "---\n",
    "title: \"VIT_MNIST_Classification\"\n",
    "author: \"김보람\"\n",
    "date: \"12/14/2023\"\n",
    "---"
   ]
  },
  {
   "cell_type": "markdown",
   "metadata": {
    "id": "J_68kovMsjsG"
   },
   "source": [
    "# Handwritten Image Classification with Vision in Transformers (ViT)"
   ]
  },
  {
   "cell_type": "code",
   "execution_count": null,
   "metadata": {
    "id": "G6SfFRgSsjsK"
   },
   "outputs": [],
   "source": [
    "import torch\n",
    "import torch.nn as nn\n",
    "import torch.nn.functional as F\n",
    "from torch.utils.data import Dataset, random_split, DataLoader\n",
    "\n",
    "from torchvision import datasets, transforms, models\n",
    "import torchvision.transforms as transforms\n",
    "from torch.utils.data import Dataset, random_split, DataLoader\n",
    "from torchvision.utils import save_image\n",
    "\n",
    "from torchsummary import summary\n",
    "\n",
    "import spacy\n",
    "\n",
    "import numpy as np\n",
    "import pandas as pd\n",
    "import matplotlib.pyplot as plt\n",
    "\n",
    "import os\n",
    "import time\n",
    "import math\n",
    "from PIL import Image\n",
    "import glob\n",
    "from IPython.display import display"
   ]
  },
  {
   "cell_type": "code",
   "execution_count": null,
   "metadata": {
    "colab": {
     "base_uri": "https://localhost:8080/"
    },
    "id": "VbMEYlK_sjsM",
    "outputId": "590dc9aa-13f0-42e4-8b13-c5e372576c7f"
   },
   "outputs": [
    {
     "name": "stdout",
     "output_type": "stream",
     "text": [
      "cuda\n"
     ]
    }
   ],
   "source": [
    "device = torch.device(\"cuda\" if torch.cuda.is_available() else \"cpu\")\n",
    "print(device)"
   ]
  },
  {
   "cell_type": "code",
   "execution_count": null,
   "metadata": {
    "id": "ZAJ8WVOCsjsN"
   },
   "outputs": [],
   "source": [
    "torch.manual_seed(0)\n",
    "np.random.seed(0)"
   ]
  },
  {
   "cell_type": "code",
   "execution_count": null,
   "metadata": {
    "id": "QIe4Y4VOsjsO"
   },
   "outputs": [],
   "source": [
    "BATCH_SIZE = 200\n",
    "LR = 5e-5\n",
    "NUM_EPOCHES = 10"
   ]
  },
  {
   "cell_type": "code",
   "execution_count": null,
   "metadata": {
    "id": "91VLcjSfsjsO"
   },
   "outputs": [],
   "source": [
    "mean, std = (0.5,), (0.5,)\n",
    "\n",
    "transform = transforms.Compose([transforms.ToTensor(),\n",
    "                                transforms.Normalize(mean, std)\n",
    "                              ])"
   ]
  },
  {
   "cell_type": "code",
   "execution_count": null,
   "metadata": {
    "colab": {
     "base_uri": "https://localhost:8080/"
    },
    "id": "lrbxufwjsjsO",
    "outputId": "fe0546f4-e534-4fe6-fd3c-1e681919d4c9"
   },
   "outputs": [
    {
     "name": "stdout",
     "output_type": "stream",
     "text": [
      "Downloading http://yann.lecun.com/exdb/mnist/train-images-idx3-ubyte.gz\n",
      "Downloading http://yann.lecun.com/exdb/mnist/train-images-idx3-ubyte.gz to ../data/MNIST/MNIST/raw/train-images-idx3-ubyte.gz\n"
     ]
    },
    {
     "name": "stderr",
     "output_type": "stream",
     "text": [
      "100%|██████████| 9912422/9912422 [00:00<00:00, 132524476.35it/s]"
     ]
    },
    {
     "name": "stdout",
     "output_type": "stream",
     "text": [
      "Extracting ../data/MNIST/MNIST/raw/train-images-idx3-ubyte.gz to ../data/MNIST/MNIST/raw\n"
     ]
    },
    {
     "name": "stderr",
     "output_type": "stream",
     "text": [
      "\n"
     ]
    },
    {
     "name": "stdout",
     "output_type": "stream",
     "text": [
      "\n",
      "Downloading http://yann.lecun.com/exdb/mnist/train-labels-idx1-ubyte.gz\n",
      "Downloading http://yann.lecun.com/exdb/mnist/train-labels-idx1-ubyte.gz to ../data/MNIST/MNIST/raw/train-labels-idx1-ubyte.gz\n"
     ]
    },
    {
     "name": "stderr",
     "output_type": "stream",
     "text": [
      "100%|██████████| 28881/28881 [00:00<00:00, 40378564.61it/s]\n"
     ]
    },
    {
     "name": "stdout",
     "output_type": "stream",
     "text": [
      "Extracting ../data/MNIST/MNIST/raw/train-labels-idx1-ubyte.gz to ../data/MNIST/MNIST/raw\n",
      "\n",
      "Downloading http://yann.lecun.com/exdb/mnist/t10k-images-idx3-ubyte.gz\n",
      "Downloading http://yann.lecun.com/exdb/mnist/t10k-images-idx3-ubyte.gz to ../data/MNIST/MNIST/raw/t10k-images-idx3-ubyte.gz\n"
     ]
    },
    {
     "name": "stderr",
     "output_type": "stream",
     "text": [
      "100%|██████████| 1648877/1648877 [00:00<00:00, 38440411.96it/s]"
     ]
    },
    {
     "name": "stdout",
     "output_type": "stream",
     "text": [
      "Extracting ../data/MNIST/MNIST/raw/t10k-images-idx3-ubyte.gz to ../data/MNIST/MNIST/raw\n"
     ]
    },
    {
     "name": "stderr",
     "output_type": "stream",
     "text": [
      "\n"
     ]
    },
    {
     "name": "stdout",
     "output_type": "stream",
     "text": [
      "\n",
      "Downloading http://yann.lecun.com/exdb/mnist/t10k-labels-idx1-ubyte.gz\n",
      "Downloading http://yann.lecun.com/exdb/mnist/t10k-labels-idx1-ubyte.gz to ../data/MNIST/MNIST/raw/t10k-labels-idx1-ubyte.gz\n"
     ]
    },
    {
     "name": "stderr",
     "output_type": "stream",
     "text": [
      "100%|██████████| 4542/4542 [00:00<00:00, 22842360.63it/s]\n"
     ]
    },
    {
     "name": "stdout",
     "output_type": "stream",
     "text": [
      "Extracting ../data/MNIST/MNIST/raw/t10k-labels-idx1-ubyte.gz to ../data/MNIST/MNIST/raw\n",
      "\n"
     ]
    }
   ],
   "source": [
    "trainset = datasets.MNIST('../data/MNIST/', download=True, train=True, transform=transform)\n",
    "trainloader = torch.utils.data.DataLoader(trainset, batch_size=BATCH_SIZE, shuffle=True)\n",
    "\n",
    "testset = datasets.MNIST('../data/MNIST/', download=True, train=False, transform=transform)\n",
    "testloader = torch.utils.data.DataLoader(testset, batch_size=BATCH_SIZE, shuffle=False)"
   ]
  },
  {
   "cell_type": "markdown",
   "metadata": {
    "id": "nPsQfqlIsjsP"
   },
   "source": [
    "## Model"
   ]
  },
  {
   "cell_type": "code",
   "execution_count": null,
   "metadata": {
    "colab": {
     "base_uri": "https://localhost:8080/"
    },
    "id": "VCa9PD85sjsP",
    "outputId": "cccf5bee-7860-441b-8554-16fff79ad862"
   },
   "outputs": [
    {
     "name": "stdout",
     "output_type": "stream",
     "text": [
      "Collecting transformer-implementations\n",
      "  Downloading transformer_implementations-0.0.9-py3-none-any.whl (9.4 kB)\n",
      "Installing collected packages: transformer-implementations\n",
      "Successfully installed transformer-implementations-0.0.9\n"
     ]
    }
   ],
   "source": [
    "!pip install transformer-implementations\n",
    "from transformer_package.models import ViT"
   ]
  },
  {
   "cell_type": "code",
   "execution_count": null,
   "metadata": {
    "colab": {
     "base_uri": "https://localhost:8080/"
    },
    "id": "bEW6FPyxsjsP",
    "outputId": "c4eb68df-fa7b-4b80-e96b-3451479f80d2"
   },
   "outputs": [
    {
     "data": {
      "text/plain": [
       "ViT(\n",
       "  (dropout_layer): Dropout(p=0.2, inplace=False)\n",
       "  (embeddings): Linear(in_features=49, out_features=512, bias=True)\n",
       "  (encoders): ModuleList(\n",
       "    (0-1): 2 x VisionEncoder(\n",
       "      (norm1): LayerNorm((512,), eps=1e-05, elementwise_affine=True)\n",
       "      (norm2): LayerNorm((512,), eps=1e-05, elementwise_affine=True)\n",
       "      (attention): MultiHeadAttention(\n",
       "        (dropout_layer): Dropout(p=0.2, inplace=False)\n",
       "        (Q): Linear(in_features=512, out_features=512, bias=True)\n",
       "        (K): Linear(in_features=512, out_features=512, bias=True)\n",
       "        (V): Linear(in_features=512, out_features=512, bias=True)\n",
       "        (linear): Linear(in_features=512, out_features=512, bias=True)\n",
       "      )\n",
       "      (mlp): Sequential(\n",
       "        (0): Linear(in_features=512, out_features=2048, bias=True)\n",
       "        (1): GELU(approximate='none')\n",
       "        (2): Dropout(p=0.2, inplace=False)\n",
       "        (3): Linear(in_features=2048, out_features=512, bias=True)\n",
       "        (4): Dropout(p=0.2, inplace=False)\n",
       "      )\n",
       "    )\n",
       "  )\n",
       "  (norm): LayerNorm((512,), eps=1e-05, elementwise_affine=True)\n",
       "  (classifier): Sequential(\n",
       "    (0): Linear(in_features=512, out_features=10, bias=True)\n",
       "  )\n",
       ")"
      ]
     },
     "execution_count": 12,
     "metadata": {},
     "output_type": "execute_result"
    }
   ],
   "source": [
    "image_size = 28\n",
    "channel_size = 1\n",
    "patch_size = 7\n",
    "embed_size = 512\n",
    "num_heads = 4\n",
    "classes = 10\n",
    "num_layers = 2\n",
    "hidden_size = 256\n",
    "dropout = 0.2\n",
    "\n",
    "model = ViT(image_size, channel_size, patch_size, embed_size, num_heads, classes, num_layers, hidden_size, dropout=dropout).to(device)\n",
    "model"
   ]
  },
  {
   "cell_type": "code",
   "execution_count": null,
   "metadata": {
    "colab": {
     "base_uri": "https://localhost:8080/"
    },
    "id": "ZJkVLrWdsjsQ",
    "outputId": "b1dd0057-e3f5-423e-ee58-07484f4bb023"
   },
   "outputs": [
    {
     "name": "stdout",
     "output_type": "stream",
     "text": [
      "Input Image Dimensions: torch.Size([200, 1, 28, 28])\n",
      "Label Dimensions: torch.Size([200])\n",
      "----------------------------------------------------------------------------------------------------\n",
      "Output Dimensions: torch.Size([200, 10])\n"
     ]
    }
   ],
   "source": [
    "for img, label in trainloader:\n",
    "    img = img.to(device)\n",
    "    label = label.to(device)\n",
    "\n",
    "    print(\"Input Image Dimensions: {}\".format(img.size()))\n",
    "    print(\"Label Dimensions: {}\".format(label.size()))\n",
    "    print(\"-\"*100)\n",
    "\n",
    "    out = model(img)\n",
    "\n",
    "    print(\"Output Dimensions: {}\".format(out.size()))\n",
    "    break"
   ]
  },
  {
   "cell_type": "code",
   "execution_count": null,
   "metadata": {
    "id": "73xy_hewsjsQ"
   },
   "outputs": [],
   "source": [
    "criterion = nn.NLLLoss()\n",
    "optimizer = torch.optim.Adam(params=model.parameters(), lr=LR)"
   ]
  },
  {
   "cell_type": "code",
   "execution_count": null,
   "metadata": {
    "colab": {
     "base_uri": "https://localhost:8080/"
    },
    "id": "nSWjFSwMsjsQ",
    "outputId": "5850cc3a-2701-4194-9036-f8245373a16c"
   },
   "outputs": [
    {
     "name": "stdout",
     "output_type": "stream",
     "text": [
      "Step: 1.00000000  100.00000000\n",
      "Step: 1.00000000  200.00000000\n",
      "Step: 1.00000000  300.00000000\n",
      "-------------------------------------------------\n",
      "Epoch: 1 Train mean loss: 323.08200696\n",
      "       Train Accuracy%:  63.598333333333336 == 38159 / 60000\n",
      "-------------------------------------------------\n",
      "Step: 2.00000000  100.00000000\n",
      "Step: 2.00000000  200.00000000\n",
      "Step: 2.00000000  300.00000000\n",
      "-------------------------------------------------\n",
      "Epoch: 2 Train mean loss: 131.86424088\n",
      "       Train Accuracy%:  86.045 == 51627 / 60000\n",
      "-------------------------------------------------\n",
      "Step: 3.00000000  100.00000000\n",
      "Step: 3.00000000  200.00000000\n",
      "Step: 3.00000000  300.00000000\n",
      "-------------------------------------------------\n",
      "Epoch: 3 Train mean loss: 102.83779885\n",
      "       Train Accuracy%:  89.11833333333334 == 53471 / 60000\n",
      "-------------------------------------------------\n",
      "Step: 4.00000000  100.00000000\n",
      "Step: 4.00000000  200.00000000\n",
      "Step: 4.00000000  300.00000000\n",
      "-------------------------------------------------\n",
      "Epoch: 4 Train mean loss: 87.88007259\n",
      "       Train Accuracy%:  90.72666666666667 == 54436 / 60000\n",
      "-------------------------------------------------\n",
      "Step: 5.00000000  100.00000000\n",
      "Step: 5.00000000  200.00000000\n",
      "Step: 5.00000000  300.00000000\n",
      "-------------------------------------------------\n",
      "Epoch: 5 Train mean loss: 78.15140389\n",
      "       Train Accuracy%:  91.76166666666667 == 55057 / 60000\n",
      "-------------------------------------------------\n",
      "Step: 6.00000000  100.00000000\n",
      "Step: 6.00000000  200.00000000\n",
      "Step: 6.00000000  300.00000000\n",
      "-------------------------------------------------\n",
      "Epoch: 6 Train mean loss: 69.25521898\n",
      "       Train Accuracy%:  92.69333333333333 == 55616 / 60000\n",
      "-------------------------------------------------\n",
      "Step: 7.00000000  100.00000000\n",
      "Step: 7.00000000  200.00000000\n",
      "Step: 7.00000000  300.00000000\n",
      "-------------------------------------------------\n",
      "Epoch: 7 Train mean loss: 63.42148008\n",
      "       Train Accuracy%:  93.325 == 55995 / 60000\n",
      "-------------------------------------------------\n",
      "Step: 8.00000000  100.00000000\n",
      "Step: 8.00000000  200.00000000\n",
      "Step: 8.00000000  300.00000000\n",
      "-------------------------------------------------\n",
      "Epoch: 8 Train mean loss: 58.87239636\n",
      "       Train Accuracy%:  93.83333333333333 == 56300 / 60000\n",
      "-------------------------------------------------\n",
      "Step: 9.00000000  100.00000000\n",
      "Step: 9.00000000  200.00000000\n",
      "Step: 9.00000000  300.00000000\n",
      "-------------------------------------------------\n",
      "Epoch: 9 Train mean loss: 54.04052846\n",
      "       Train Accuracy%:  94.25166666666667 == 56551 / 60000\n",
      "-------------------------------------------------\n",
      "Step: 10.00000000  100.00000000\n",
      "Step: 10.00000000  200.00000000\n",
      "Step: 10.00000000  300.00000000\n",
      "-------------------------------------------------\n",
      "Epoch: 10 Train mean loss: 50.72075617\n",
      "       Train Accuracy%:  94.59333333333333 == 56756 / 60000\n",
      "-------------------------------------------------\n"
     ]
    }
   ],
   "source": [
    "loss_hist = {}\n",
    "loss_hist[\"train accuracy\"] = []\n",
    "loss_hist[\"train loss\"] = []\n",
    "\n",
    "for epoch in range(1, NUM_EPOCHES+1):\n",
    "    model.train()\n",
    "\n",
    "    epoch_train_loss = 0\n",
    "\n",
    "    y_true_train = []\n",
    "    y_pred_train = []\n",
    "    ip = 0\n",
    "\n",
    "    for batch_idx, (img, labels) in enumerate(trainloader):\n",
    "        img = img.to(device)\n",
    "        labels = labels.to(device)\n",
    "\n",
    "        preds = model(img)\n",
    "\n",
    "        loss = criterion(preds, labels)\n",
    "        optimizer.zero_grad()\n",
    "        loss.backward()\n",
    "        optimizer.step()\n",
    "\n",
    "        y_pred_train.extend(preds.detach().argmax(dim=-1).tolist())\n",
    "        y_true_train.extend(labels.detach().tolist())\n",
    "\n",
    "        epoch_train_loss += loss.item()\n",
    "        ip = ip + 1\n",
    "        if ip % 100 == 0:\n",
    "            print(\"Step: {:.8f}  {:.8f}\".format(epoch, ip))\n",
    "\n",
    "    loss_hist[\"train loss\"].append(epoch_train_loss)\n",
    "\n",
    "    total_correct = len([True for x, y in zip(y_pred_train, y_true_train) if x==y])\n",
    "    total = len(y_pred_train)\n",
    "    accuracy = total_correct * 100 / total\n",
    "\n",
    "    loss_hist[\"train accuracy\"].append(accuracy)\n",
    "\n",
    "    print(\"-------------------------------------------------\")\n",
    "    print(\"Epoch: {} Train mean loss: {:.8f}\".format(epoch, epoch_train_loss))\n",
    "    print(\"       Train Accuracy%: \", accuracy, \"==\", total_correct, \"/\", total)\n",
    "    print(\"-------------------------------------------------\")"
   ]
  },
  {
   "cell_type": "markdown",
   "metadata": {
    "id": "Efj5jgS_sjsR"
   },
   "source": [
    "## Test"
   ]
  },
  {
   "cell_type": "code",
   "execution_count": null,
   "metadata": {
    "colab": {
     "base_uri": "https://localhost:8080/",
     "height": 449
    },
    "id": "1IM9QxPMsjsR",
    "outputId": "ecca6a42-cd54-45ef-9b72-95420bdad00c"
   },
   "outputs": [
    {
     "data": {
      "image/png": "[encoded data removed]",
      "text/plain": [
       "<Figure size 640x480 with 1 Axes>"
      ]
     },
     "metadata": {},
     "output_type": "display_data"
    }
   ],
   "source": [
    "plt.plot(loss_hist[\"train accuracy\"])\n",
    "plt.xlabel(\"Epoch\")\n",
    "plt.ylabel(\"Loss\")\n",
    "plt.show()"
   ]
  },
  {
   "cell_type": "code",
   "execution_count": null,
   "metadata": {
    "colab": {
     "base_uri": "https://localhost:8080/",
     "height": 449
    },
    "id": "3Kac9OgXsjsR",
    "outputId": "ec7d65e2-d992-4f7c-f49e-e193c48cc0d4"
   },
   "outputs": [
    {
     "data": {
      "image/png": "[encoded data removed]",
      "text/plain": [
       "<Figure size 640x480 with 1 Axes>"
      ]
     },
     "metadata": {},
     "output_type": "display_data"
    }
   ],
   "source": [
    "plt.plot(loss_hist[\"train loss\"])\n",
    "plt.xlabel(\"Epoch\")\n",
    "plt.ylabel(\"Loss\")\n",
    "plt.show()"
   ]
  },
  {
   "cell_type": "code",
   "execution_count": null,
   "metadata": {
    "colab": {
     "base_uri": "https://localhost:8080/"
    },
    "id": "C3qcfuPasjsS",
    "outputId": "fe1eb2b9-bc58-4cc1-f930-6fa47fcb9765"
   },
   "outputs": [
    {
     "name": "stdout",
     "output_type": "stream",
     "text": [
      "Test Accuracy%:  96.43 == 9643 / 10000\n"
     ]
    }
   ],
   "source": [
    "with torch.no_grad():\n",
    "    model.eval()\n",
    "\n",
    "    y_true_test = []\n",
    "    y_pred_test = []\n",
    "\n",
    "    for batch_idx, (img, labels) in enumerate(testloader):\n",
    "        img = img.to(device)\n",
    "        label = label.to(device)\n",
    "\n",
    "        preds = model(img)\n",
    "\n",
    "        y_pred_test.extend(preds.detach().argmax(dim=-1).tolist())\n",
    "        y_true_test.extend(labels.detach().tolist())\n",
    "\n",
    "    total_correct = len([True for x, y in zip(y_pred_test, y_true_test) if x==y])\n",
    "    total = len(y_pred_test)\n",
    "    accuracy = total_correct * 100 / total\n",
    "\n",
    "    print(\"Test Accuracy%: \", accuracy, \"==\", total_correct, \"/\", total)"
   ]
  }
 ],
 "metadata": {
  "accelerator": "GPU",
  "colab": {
   "gpuType": "T4",
   "provenance": []
  },
  "kernelspec": {
   "display_name": "Python 3 (ipykernel)",
   "language": "python",
   "name": "python3"
  },
  "language_info": {
   "codemirror_mode": {
    "name": "ipython",
    "version": 3
   },
   "file_extension": ".py",
   "mimetype": "text/x-python",
   "name": "python",
   "nbconvert_exporter": "python",
   "pygments_lexer": "ipython3",
   "version": "3.8.18"
  }
 },
 "nbformat": 4,
 "nbformat_minor": 4
}
