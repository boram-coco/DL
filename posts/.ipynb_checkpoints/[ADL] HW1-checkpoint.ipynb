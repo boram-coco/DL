{
 "cells": [
  {
   "cell_type": "raw",
   "id": "c545211d-bedf-462c-b74e-1ea65f65cee8",
   "metadata": {},
   "source": [
    "---\n",
    "title: \"[ADL] Take Home\"\n",
    "author: \"김보람\"\n",
    "date: \"10/30/2023\"\n",
    "---"
   ]
  },
  {
   "cell_type": "markdown",
   "id": "ac9354b6-2ac4-442d-b47d-bdd19bd56558",
   "metadata": {
    "id": "86480d71-6def-4edf-87d0-ab0a027ec690"
   },
   "source": [
    "> 해당 강의노트는 전북대학교 김광수교수님 2023-2 고급딥러닝 자료임\n",
    ">\n",
    "> 제출기한~11/10"
   ]
  },
  {
   "cell_type": "markdown",
   "id": "cbc370ea-862e-4b57-88b3-b0be59d6398f",
   "metadata": {},
   "source": [
    "# 1"
   ]
  },
  {
   "cell_type": "markdown",
   "id": "d603262e-ce21-41d6-9b9e-4ea6bbc5fefe",
   "metadata": {},
   "source": [
    "Taylor series expansion and gradient: 2nd order Taylor series expansion\n",
    "\n",
    "$$f(x) \\approx f(x_0) + (x-x_0)^T \\nabla f(x_0) + \\dfrac{1}{2}(x-x_0)^T H(x_0)(x-x_0), x \\in \\mathbb{R}^d$$\n",
    "\n",
    "when we move $x_0$ to $x_0 − ϵ ⊙ ∇f(x_0)$ for $x$ what’s the optimal $ϵ$ for the\n",
    "minimization of $f$ in this approximation?"
   ]
  },
  {
   "cell_type": "markdown",
   "id": "47955b37-594c-448b-9b8f-55b7cc5de245",
   "metadata": {},
   "source": [
    "# 2"
   ]
  },
  {
   "cell_type": "markdown",
   "id": "7b5de7cc-2f89-4c97-b60a-97d7a7971aa7",
   "metadata": {},
   "source": [
    "Back Prop.: Considering the following architecture.\n",
    "\n",
    "Input layer: $(x_1, x_2)$\n",
    "\n",
    "1st layer: $l^{(1)}_k = \\text{max} \\{ 0, \\sum_{j=1}^2 w^{(1)}_{kj} x_j + b^{(1)}_k \\}, k = 1, \\dots , s_1$\n",
    "\n",
    "2st layer: $l^{(2)}_k = \\text{max} \\{ 0, \\sum_{j=1}^{s_1} w^{(2)}_{kj} l_j^{(1)} + b^{(2)}_k \\}, k = 1, \\dots , s_2$\n",
    "\n",
    "3st layer: $l^{(3)}_k = \\text{max} \\{ 0, \\sum_{j=1}^{s_2} w^{(3)}_{kj} l_j^{(2)} + b^{(3)}_k \\}, k = 1, \\dots , s_3$\n",
    "\n",
    "4st layer: $l^{(4)}_k = \\text{max} \\{ 0, \\sum_{j=1}^{s_3} w^{(4)}_{kj} l_j^{(3)} + b^{(4)}_k \\}, k = 1, \\dots , s_4$\n",
    "\n",
    "ouput latyer: $f = \\sum_{j=1}^{s_4} w_j l_j^{(4)} + b$\n",
    "\n",
    "Loss function: $ℓ(y,f)$"
   ]
  },
  {
   "cell_type": "markdown",
   "id": "9f1dcb66-f0f4-4e71-929b-48dfafdede8d",
   "metadata": {},
   "source": [
    "## (a)"
   ]
  },
  {
   "cell_type": "markdown",
   "id": "444e00aa-c296-4111-94f3-f72c90db2c79",
   "metadata": {},
   "source": [
    "Calculate $\\dfrac{∂ℓ}{∂w^{(l)}_{kj}}$ for $(l, k, j) ∈ \\{4, 1\\} × \\{1 \\} × \\{1, 2\\}$"
   ]
  },
  {
   "cell_type": "markdown",
   "id": "88e71083-3dba-4039-bcf5-9240aa82b4f5",
   "metadata": {},
   "source": [
    "## (b)"
   ]
  },
  {
   "cell_type": "markdown",
   "id": "07bff5ca-d9cc-4b72-8221-962e6c9504dd",
   "metadata": {},
   "source": [
    "Assume that we have two mini-batches such that $\\{x = (2, 3), y = 6\\}$ and $\\{x = (1, 4), y = 7\\}$, and $ℓ = (y − f)^2$\n",
    ". Also, we initialize all values of $w^{(l)}_{kj} , w_j , b^{(l)}$ and $b$ as $1/10$. Consider the updating rule of\n",
    "$w_{t+1} = w_t − ϵ∇_wℓ_t$.\n"
   ]
  },
  {
   "cell_type": "code",
   "execution_count": null,
   "id": "8cda8cf2-41c8-4335-b56c-1d17c9696bef",
   "metadata": {},
   "outputs": [],
   "source": []
  },
  {
   "cell_type": "markdown",
   "id": "d5609873-f3f1-48d0-a15d-509c5f6c32fc",
   "metadata": {},
   "source": [
    "## (c)"
   ]
  },
  {
   "cell_type": "markdown",
   "id": "2b77448c-fe2d-495c-9d29-a92d3cb6fe62",
   "metadata": {},
   "source": [
    "Calculate the updated value of $w^{(2)}_{1,2}$\n",
    "at the first step only using the\n",
    "first batch.\n"
   ]
  },
  {
   "cell_type": "code",
   "execution_count": null,
   "id": "2706d562-c046-44bb-8176-d0f05cc36100",
   "metadata": {},
   "outputs": [],
   "source": []
  },
  {
   "cell_type": "markdown",
   "id": "e6668092-75c4-421c-91f8-baff64cbe0d9",
   "metadata": {},
   "source": [
    "# 3"
   ]
  },
  {
   "cell_type": "markdown",
   "id": "c0172e78-24a5-403e-ab3a-a260b251f6e6",
   "metadata": {},
   "source": [
    "Complexity of DNN in experiments: The attached codes are for the regression (mpg dataset on colab). The aim is to predict the mpg by various\n",
    "variables. The final results are MSE and scatter plot between the prediction and variable of weight. Report the results of MSE and this scatter\n",
    "plot when the number of layers increases or decreases or the activation\n",
    "function is changed to linear, and make some comments. Model architecture can be modified in the lines of **def build model():**.\n"
   ]
  },
  {
   "cell_type": "code",
   "execution_count": null,
   "id": "d6fae477-25f9-435d-89e2-152d66d66051",
   "metadata": {},
   "outputs": [],
   "source": []
  }
 ],
 "metadata": {
  "kernelspec": {
   "display_name": "Python 3 (ipykernel)",
   "language": "python",
   "name": "python3"
  },
  "language_info": {
   "codemirror_mode": {
    "name": "ipython",
    "version": 3
   },
   "file_extension": ".py",
   "mimetype": "text/x-python",
   "name": "python",
   "nbconvert_exporter": "python",
   "pygments_lexer": "ipython3",
   "version": "3.8.18"
  }
 },
 "nbformat": 4,
 "nbformat_minor": 5
}
